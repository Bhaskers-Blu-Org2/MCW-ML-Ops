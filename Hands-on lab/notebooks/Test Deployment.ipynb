{
  "cells": [
    {
      "metadata": {},
      "cell_type": "markdown",
      "source": [
        "# Load Data for Testing"
      ]
    },
    {
      "metadata": {
        "trusted": true
      },
      "cell_type": "code",
      "source": [
        "import numpy as np\n",
        "import pandas as pd\n",
        "from azureml.core.dataset import Dataset\n",
        "from azureml.core import Workspace\n",
        "\n",
        "# Load the car components labeled data from registered dataset\n",
        "ws = Workspace.from_config()\n",
        "print('Workspace configuration succeeded')\n",
        "cardata_ds_name = 'connected_car_components'\n",
        "cardata_ds = Dataset.get_by_name(workspace=ws, name=cardata_ds_name)\n",
        "car_components_df = cardata_ds.to_pandas_dataframe()\n",
        "components = car_components_df[\"text\"].tolist()\n",
        "\n",
        "# Load the car components labeled data from csv with URL\n",
        "#data_url = ('https://quickstartsws9073123377.blob.core.windows.net/'\n",
        "#            'azureml-blobstore-0d1c4218-a5f9-418b-bf55-902b65277b85/'\n",
        "#            'quickstarts/connected-car-data/connected-car_components.csv')\n",
        "\n",
        "# Load the car components labeled data\n",
        "#car_components_df = pd.read_csv(data_url)\n",
        "#components = car_components_df[\"text\"].tolist()\n",
        "\n",
        "labels = car_components_df[\"label\"].tolist()\n",
        "\n",
        "components = np.asarray(components)\n",
        "labels = np.asarray(labels)\n",
        "\n",
        "indices = np.arange(data.shape[0])                     \n",
        "np.random.shuffle(indices)\n",
        "data = data[indices]\n",
        "labels = labels[indices]"
      ],
      "execution_count": null,
      "outputs": []
    },
    {
      "metadata": {},
      "cell_type": "markdown",
      "source": [
        "## Prepare Test Data"
      ]
    },
    {
      "metadata": {
        "trusted": true
      },
      "cell_type": "code",
      "source": [
        "test_size = 10\n",
        "\n",
        "x_test = data[0:test_size]\n",
        "y_test = labels[0:test_size]\n",
        "\n",
        "print('Shape of test data tensor:', x_test.shape)\n",
        "print('Shape of test label tensor:', y_test.shape)"
      ],
      "execution_count": null,
      "outputs": []
    },
    {
      "metadata": {},
      "cell_type": "markdown",
      "source": [
        "# Test Deployment\n",
        "\n",
        "Provide the **Scoring URI** and **API Key** for the deployed webservice"
      ]
    },
    {
      "metadata": {
        "trusted": true
      },
      "cell_type": "code",
      "source": [
        "web_service_url = '' # provide the scoring URI\n",
        "api_key = '' # provide API key"
      ],
      "execution_count": null,
      "outputs": []
    },
    {
      "metadata": {},
      "cell_type": "markdown",
      "source": [
        "## Make HTTP calls to test the deployed Webservice"
      ]
    },
    {
      "metadata": {
        "trusted": true
      },
      "cell_type": "code",
      "source": [
        "import requests\n",
        "import json\n",
        "\n",
        "headers = {'Content-Type':'application/json', 'Authorization':('Bearer '+ api_key)}\n",
        "response = requests.post(web_service_url, json.dumps(x_test.tolist()), headers=headers)\n",
        "print('Predictions')\n",
        "print(response.text)\n",
        "print('Labels')\n",
        "print(y_test)"
      ],
      "execution_count": null,
      "outputs": []
    },
    {
      "metadata": {
        "trusted": true
      },
      "cell_type": "code",
      "source": [],
      "execution_count": null,
      "outputs": []
    }
  ],
  "metadata": {
    "kernelspec": {
      "name": "python36",
      "display_name": "Python 3.6",
      "language": "python"
    },
    "language_info": {
      "mimetype": "text/x-python",
      "nbconvert_exporter": "python",
      "name": "python",
      "pygments_lexer": "ipython3",
      "version": "3.6.6",
      "file_extension": ".py",
      "codemirror_mode": {
        "version": 3,
        "name": "ipython"
      }
    }
  },
  "nbformat": 4,
  "nbformat_minor": 1
}